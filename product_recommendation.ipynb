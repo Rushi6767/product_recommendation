{
 "cells": [
  {
   "cell_type": "code",
   "execution_count": 1,
   "id": "016d9e56-2b74-4256-b281-b15356813fd4",
   "metadata": {},
   "outputs": [],
   "source": [
    "import numpy as np\n",
    "import pandas as pd"
   ]
  },
  {
   "cell_type": "code",
   "execution_count": 2,
   "id": "069b8ba7-6379-482e-a4c9-27c0ba37a73c",
   "metadata": {},
   "outputs": [],
   "source": [
    "images = pd.read_csv(\"images.csv\")"
   ]
  },
  {
   "cell_type": "code",
   "execution_count": 3,
   "id": "cce543ca-030a-4d67-9064-bee0591ee768",
   "metadata": {},
   "outputs": [
    {
     "data": {
      "text/html": [
       "<div>\n",
       "<style scoped>\n",
       "    .dataframe tbody tr th:only-of-type {\n",
       "        vertical-align: middle;\n",
       "    }\n",
       "\n",
       "    .dataframe tbody tr th {\n",
       "        vertical-align: top;\n",
       "    }\n",
       "\n",
       "    .dataframe thead th {\n",
       "        text-align: right;\n",
       "    }\n",
       "</style>\n",
       "<table border=\"1\" class=\"dataframe\">\n",
       "  <thead>\n",
       "    <tr style=\"text-align: right;\">\n",
       "      <th></th>\n",
       "      <th>filename</th>\n",
       "      <th>link</th>\n",
       "    </tr>\n",
       "  </thead>\n",
       "  <tbody>\n",
       "    <tr>\n",
       "      <th>0</th>\n",
       "      <td>15970.jpg</td>\n",
       "      <td>http://assets.myntassets.com/v1/images/style/p...</td>\n",
       "    </tr>\n",
       "    <tr>\n",
       "      <th>1</th>\n",
       "      <td>39386.jpg</td>\n",
       "      <td>http://assets.myntassets.com/v1/images/style/p...</td>\n",
       "    </tr>\n",
       "    <tr>\n",
       "      <th>2</th>\n",
       "      <td>59263.jpg</td>\n",
       "      <td>http://assets.myntassets.com/v1/images/style/p...</td>\n",
       "    </tr>\n",
       "    <tr>\n",
       "      <th>3</th>\n",
       "      <td>21379.jpg</td>\n",
       "      <td>http://assets.myntassets.com/v1/images/style/p...</td>\n",
       "    </tr>\n",
       "    <tr>\n",
       "      <th>4</th>\n",
       "      <td>53759.jpg</td>\n",
       "      <td>http://assets.myntassets.com/v1/images/style/p...</td>\n",
       "    </tr>\n",
       "  </tbody>\n",
       "</table>\n",
       "</div>"
      ],
      "text/plain": [
       "    filename                                               link\n",
       "0  15970.jpg  http://assets.myntassets.com/v1/images/style/p...\n",
       "1  39386.jpg  http://assets.myntassets.com/v1/images/style/p...\n",
       "2  59263.jpg  http://assets.myntassets.com/v1/images/style/p...\n",
       "3  21379.jpg  http://assets.myntassets.com/v1/images/style/p...\n",
       "4  53759.jpg  http://assets.myntassets.com/v1/images/style/p..."
      ]
     },
     "execution_count": 3,
     "metadata": {},
     "output_type": "execute_result"
    }
   ],
   "source": [
    "images.head()"
   ]
  },
  {
   "cell_type": "code",
   "execution_count": 9,
   "id": "37e61c24-80d5-4ec4-bfa4-e772b8092a97",
   "metadata": {},
   "outputs": [
    {
     "data": {
      "text/plain": [
       "'http://assets.myntassets.com/v1/images/style/properties/7a5b82d1372a7a5c6de67ae7a314fd91_images.jpg'"
      ]
     },
     "execution_count": 9,
     "metadata": {},
     "output_type": "execute_result"
    }
   ],
   "source": [
    "images['link'][0]"
   ]
  },
  {
   "cell_type": "code",
   "execution_count": 14,
   "id": "fd06f53d-3cff-4728-863e-8452be5bb868",
   "metadata": {},
   "outputs": [
    {
     "data": {
      "text/plain": [
       "'15970.jpg'"
      ]
     },
     "execution_count": 14,
     "metadata": {},
     "output_type": "execute_result"
    }
   ],
   "source": [
    "images['filename'][0]"
   ]
  },
  {
   "cell_type": "code",
   "execution_count": 7,
   "id": "fb3c2eb0-c37b-4154-9377-5a14da5ec00e",
   "metadata": {},
   "outputs": [],
   "source": [
    "df = pd.read_csv(\"styles.csv\", on_bad_lines='skip')  # Skip malformed lines"
   ]
  },
  {
   "cell_type": "code",
   "execution_count": 8,
   "id": "305cd0ea-13f6-45d9-95ed-465e019a5964",
   "metadata": {},
   "outputs": [
    {
     "data": {
      "text/html": [
       "<div>\n",
       "<style scoped>\n",
       "    .dataframe tbody tr th:only-of-type {\n",
       "        vertical-align: middle;\n",
       "    }\n",
       "\n",
       "    .dataframe tbody tr th {\n",
       "        vertical-align: top;\n",
       "    }\n",
       "\n",
       "    .dataframe thead th {\n",
       "        text-align: right;\n",
       "    }\n",
       "</style>\n",
       "<table border=\"1\" class=\"dataframe\">\n",
       "  <thead>\n",
       "    <tr style=\"text-align: right;\">\n",
       "      <th></th>\n",
       "      <th>id</th>\n",
       "      <th>gender</th>\n",
       "      <th>masterCategory</th>\n",
       "      <th>subCategory</th>\n",
       "      <th>articleType</th>\n",
       "      <th>baseColour</th>\n",
       "      <th>season</th>\n",
       "      <th>year</th>\n",
       "      <th>usage</th>\n",
       "      <th>productDisplayName</th>\n",
       "    </tr>\n",
       "  </thead>\n",
       "  <tbody>\n",
       "    <tr>\n",
       "      <th>0</th>\n",
       "      <td>15970</td>\n",
       "      <td>Men</td>\n",
       "      <td>Apparel</td>\n",
       "      <td>Topwear</td>\n",
       "      <td>Shirts</td>\n",
       "      <td>Navy Blue</td>\n",
       "      <td>Fall</td>\n",
       "      <td>2011.0</td>\n",
       "      <td>Casual</td>\n",
       "      <td>Turtle Check Men Navy Blue Shirt</td>\n",
       "    </tr>\n",
       "    <tr>\n",
       "      <th>1</th>\n",
       "      <td>39386</td>\n",
       "      <td>Men</td>\n",
       "      <td>Apparel</td>\n",
       "      <td>Bottomwear</td>\n",
       "      <td>Jeans</td>\n",
       "      <td>Blue</td>\n",
       "      <td>Summer</td>\n",
       "      <td>2012.0</td>\n",
       "      <td>Casual</td>\n",
       "      <td>Peter England Men Party Blue Jeans</td>\n",
       "    </tr>\n",
       "    <tr>\n",
       "      <th>2</th>\n",
       "      <td>59263</td>\n",
       "      <td>Women</td>\n",
       "      <td>Accessories</td>\n",
       "      <td>Watches</td>\n",
       "      <td>Watches</td>\n",
       "      <td>Silver</td>\n",
       "      <td>Winter</td>\n",
       "      <td>2016.0</td>\n",
       "      <td>Casual</td>\n",
       "      <td>Titan Women Silver Watch</td>\n",
       "    </tr>\n",
       "    <tr>\n",
       "      <th>3</th>\n",
       "      <td>21379</td>\n",
       "      <td>Men</td>\n",
       "      <td>Apparel</td>\n",
       "      <td>Bottomwear</td>\n",
       "      <td>Track Pants</td>\n",
       "      <td>Black</td>\n",
       "      <td>Fall</td>\n",
       "      <td>2011.0</td>\n",
       "      <td>Casual</td>\n",
       "      <td>Manchester United Men Solid Black Track Pants</td>\n",
       "    </tr>\n",
       "    <tr>\n",
       "      <th>4</th>\n",
       "      <td>53759</td>\n",
       "      <td>Men</td>\n",
       "      <td>Apparel</td>\n",
       "      <td>Topwear</td>\n",
       "      <td>Tshirts</td>\n",
       "      <td>Grey</td>\n",
       "      <td>Summer</td>\n",
       "      <td>2012.0</td>\n",
       "      <td>Casual</td>\n",
       "      <td>Puma Men Grey T-shirt</td>\n",
       "    </tr>\n",
       "  </tbody>\n",
       "</table>\n",
       "</div>"
      ],
      "text/plain": [
       "      id gender masterCategory subCategory  articleType baseColour  season  \\\n",
       "0  15970    Men        Apparel     Topwear       Shirts  Navy Blue    Fall   \n",
       "1  39386    Men        Apparel  Bottomwear        Jeans       Blue  Summer   \n",
       "2  59263  Women    Accessories     Watches      Watches     Silver  Winter   \n",
       "3  21379    Men        Apparel  Bottomwear  Track Pants      Black    Fall   \n",
       "4  53759    Men        Apparel     Topwear      Tshirts       Grey  Summer   \n",
       "\n",
       "     year   usage                             productDisplayName  \n",
       "0  2011.0  Casual               Turtle Check Men Navy Blue Shirt  \n",
       "1  2012.0  Casual             Peter England Men Party Blue Jeans  \n",
       "2  2016.0  Casual                       Titan Women Silver Watch  \n",
       "3  2011.0  Casual  Manchester United Men Solid Black Track Pants  \n",
       "4  2012.0  Casual                          Puma Men Grey T-shirt  "
      ]
     },
     "execution_count": 8,
     "metadata": {},
     "output_type": "execute_result"
    }
   ],
   "source": [
    "df.head()"
   ]
  },
  {
   "cell_type": "code",
   "execution_count": 10,
   "id": "4ec971f3-e2ca-45ae-bb90-05c88784f8a5",
   "metadata": {},
   "outputs": [
    {
     "name": "stdout",
     "output_type": "stream",
     "text": [
      "<class 'pandas.core.frame.DataFrame'>\n",
      "RangeIndex: 44424 entries, 0 to 44423\n",
      "Data columns (total 10 columns):\n",
      " #   Column              Non-Null Count  Dtype  \n",
      "---  ------              --------------  -----  \n",
      " 0   id                  44424 non-null  int64  \n",
      " 1   gender              44424 non-null  object \n",
      " 2   masterCategory      44424 non-null  object \n",
      " 3   subCategory         44424 non-null  object \n",
      " 4   articleType         44424 non-null  object \n",
      " 5   baseColour          44409 non-null  object \n",
      " 6   season              44403 non-null  object \n",
      " 7   year                44423 non-null  float64\n",
      " 8   usage               44107 non-null  object \n",
      " 9   productDisplayName  44417 non-null  object \n",
      "dtypes: float64(1), int64(1), object(8)\n",
      "memory usage: 3.4+ MB\n"
     ]
    }
   ],
   "source": [
    "df.info()"
   ]
  },
  {
   "cell_type": "code",
   "execution_count": 11,
   "id": "ef16da7d-5442-44ac-a747-af47f9388236",
   "metadata": {},
   "outputs": [
    {
     "data": {
      "text/html": [
       "<div>\n",
       "<style scoped>\n",
       "    .dataframe tbody tr th:only-of-type {\n",
       "        vertical-align: middle;\n",
       "    }\n",
       "\n",
       "    .dataframe tbody tr th {\n",
       "        vertical-align: top;\n",
       "    }\n",
       "\n",
       "    .dataframe thead th {\n",
       "        text-align: right;\n",
       "    }\n",
       "</style>\n",
       "<table border=\"1\" class=\"dataframe\">\n",
       "  <thead>\n",
       "    <tr style=\"text-align: right;\">\n",
       "      <th></th>\n",
       "      <th>id</th>\n",
       "      <th>year</th>\n",
       "    </tr>\n",
       "  </thead>\n",
       "  <tbody>\n",
       "    <tr>\n",
       "      <th>count</th>\n",
       "      <td>44424.000000</td>\n",
       "      <td>44423.000000</td>\n",
       "    </tr>\n",
       "    <tr>\n",
       "      <th>mean</th>\n",
       "      <td>29696.334301</td>\n",
       "      <td>2012.806497</td>\n",
       "    </tr>\n",
       "    <tr>\n",
       "      <th>std</th>\n",
       "      <td>17049.490518</td>\n",
       "      <td>2.126480</td>\n",
       "    </tr>\n",
       "    <tr>\n",
       "      <th>min</th>\n",
       "      <td>1163.000000</td>\n",
       "      <td>2007.000000</td>\n",
       "    </tr>\n",
       "    <tr>\n",
       "      <th>25%</th>\n",
       "      <td>14768.750000</td>\n",
       "      <td>2011.000000</td>\n",
       "    </tr>\n",
       "    <tr>\n",
       "      <th>50%</th>\n",
       "      <td>28618.500000</td>\n",
       "      <td>2012.000000</td>\n",
       "    </tr>\n",
       "    <tr>\n",
       "      <th>75%</th>\n",
       "      <td>44683.250000</td>\n",
       "      <td>2015.000000</td>\n",
       "    </tr>\n",
       "    <tr>\n",
       "      <th>max</th>\n",
       "      <td>60000.000000</td>\n",
       "      <td>2019.000000</td>\n",
       "    </tr>\n",
       "  </tbody>\n",
       "</table>\n",
       "</div>"
      ],
      "text/plain": [
       "                 id          year\n",
       "count  44424.000000  44423.000000\n",
       "mean   29696.334301   2012.806497\n",
       "std    17049.490518      2.126480\n",
       "min     1163.000000   2007.000000\n",
       "25%    14768.750000   2011.000000\n",
       "50%    28618.500000   2012.000000\n",
       "75%    44683.250000   2015.000000\n",
       "max    60000.000000   2019.000000"
      ]
     },
     "execution_count": 11,
     "metadata": {},
     "output_type": "execute_result"
    }
   ],
   "source": [
    "df.describe()"
   ]
  },
  {
   "cell_type": "code",
   "execution_count": 12,
   "id": "9ddfcb70-d620-4e6c-8b8c-f55778d98f8d",
   "metadata": {},
   "outputs": [
    {
     "data": {
      "text/plain": [
       "id                      0\n",
       "gender                  0\n",
       "masterCategory          0\n",
       "subCategory             0\n",
       "articleType             0\n",
       "baseColour             15\n",
       "season                 21\n",
       "year                    1\n",
       "usage                 317\n",
       "productDisplayName      7\n",
       "dtype: int64"
      ]
     },
     "execution_count": 12,
     "metadata": {},
     "output_type": "execute_result"
    }
   ],
   "source": [
    "df.isnull().sum()"
   ]
  },
  {
   "cell_type": "code",
   "execution_count": 13,
   "id": "168e809d-b4d3-48b7-89c3-cbf24bdc6911",
   "metadata": {},
   "outputs": [
    {
     "data": {
      "text/plain": [
       "filename    0\n",
       "link        0\n",
       "dtype: int64"
      ]
     },
     "execution_count": 13,
     "metadata": {},
     "output_type": "execute_result"
    }
   ],
   "source": [
    "images.isnull().sum()"
   ]
  },
  {
   "cell_type": "code",
   "execution_count": 15,
   "id": "b6857eb4-a5a8-4ce8-b6e6-bc958b31b70a",
   "metadata": {},
   "outputs": [],
   "source": [
    "# Remove missing image links if any\n",
    "# images = images.dropna()"
   ]
  },
  {
   "cell_type": "code",
   "execution_count": 16,
   "id": "4594eda4-f9b6-4c9a-94a6-e10f62bb48cf",
   "metadata": {},
   "outputs": [],
   "source": [
    "# Remove file extension to match with styles `id`\n",
    "images['id'] = images['filename'].str.replace('.jpg', '').astype(int)"
   ]
  },
  {
   "cell_type": "code",
   "execution_count": 18,
   "id": "5fde8659-bba8-4d7f-8a5f-19a38eaf3da1",
   "metadata": {},
   "outputs": [],
   "source": [
    "# Merge\n",
    "data = pd.merge(df, images, on='id')"
   ]
  },
  {
   "cell_type": "code",
   "execution_count": 19,
   "id": "5c1ffb33-d876-4a75-97ea-eee13d75dbdb",
   "metadata": {},
   "outputs": [
    {
     "data": {
      "text/html": [
       "<div>\n",
       "<style scoped>\n",
       "    .dataframe tbody tr th:only-of-type {\n",
       "        vertical-align: middle;\n",
       "    }\n",
       "\n",
       "    .dataframe tbody tr th {\n",
       "        vertical-align: top;\n",
       "    }\n",
       "\n",
       "    .dataframe thead th {\n",
       "        text-align: right;\n",
       "    }\n",
       "</style>\n",
       "<table border=\"1\" class=\"dataframe\">\n",
       "  <thead>\n",
       "    <tr style=\"text-align: right;\">\n",
       "      <th></th>\n",
       "      <th>id</th>\n",
       "      <th>gender</th>\n",
       "      <th>masterCategory</th>\n",
       "      <th>subCategory</th>\n",
       "      <th>articleType</th>\n",
       "      <th>baseColour</th>\n",
       "      <th>season</th>\n",
       "      <th>year</th>\n",
       "      <th>usage</th>\n",
       "      <th>productDisplayName</th>\n",
       "      <th>filename</th>\n",
       "      <th>link</th>\n",
       "    </tr>\n",
       "  </thead>\n",
       "  <tbody>\n",
       "    <tr>\n",
       "      <th>0</th>\n",
       "      <td>15970</td>\n",
       "      <td>Men</td>\n",
       "      <td>Apparel</td>\n",
       "      <td>Topwear</td>\n",
       "      <td>Shirts</td>\n",
       "      <td>Navy Blue</td>\n",
       "      <td>Fall</td>\n",
       "      <td>2011.0</td>\n",
       "      <td>Casual</td>\n",
       "      <td>Turtle Check Men Navy Blue Shirt</td>\n",
       "      <td>15970.jpg</td>\n",
       "      <td>http://assets.myntassets.com/v1/images/style/p...</td>\n",
       "    </tr>\n",
       "    <tr>\n",
       "      <th>1</th>\n",
       "      <td>39386</td>\n",
       "      <td>Men</td>\n",
       "      <td>Apparel</td>\n",
       "      <td>Bottomwear</td>\n",
       "      <td>Jeans</td>\n",
       "      <td>Blue</td>\n",
       "      <td>Summer</td>\n",
       "      <td>2012.0</td>\n",
       "      <td>Casual</td>\n",
       "      <td>Peter England Men Party Blue Jeans</td>\n",
       "      <td>39386.jpg</td>\n",
       "      <td>http://assets.myntassets.com/v1/images/style/p...</td>\n",
       "    </tr>\n",
       "    <tr>\n",
       "      <th>2</th>\n",
       "      <td>59263</td>\n",
       "      <td>Women</td>\n",
       "      <td>Accessories</td>\n",
       "      <td>Watches</td>\n",
       "      <td>Watches</td>\n",
       "      <td>Silver</td>\n",
       "      <td>Winter</td>\n",
       "      <td>2016.0</td>\n",
       "      <td>Casual</td>\n",
       "      <td>Titan Women Silver Watch</td>\n",
       "      <td>59263.jpg</td>\n",
       "      <td>http://assets.myntassets.com/v1/images/style/p...</td>\n",
       "    </tr>\n",
       "  </tbody>\n",
       "</table>\n",
       "</div>"
      ],
      "text/plain": [
       "      id gender masterCategory subCategory articleType baseColour  season  \\\n",
       "0  15970    Men        Apparel     Topwear      Shirts  Navy Blue    Fall   \n",
       "1  39386    Men        Apparel  Bottomwear       Jeans       Blue  Summer   \n",
       "2  59263  Women    Accessories     Watches     Watches     Silver  Winter   \n",
       "\n",
       "     year   usage                  productDisplayName   filename  \\\n",
       "0  2011.0  Casual    Turtle Check Men Navy Blue Shirt  15970.jpg   \n",
       "1  2012.0  Casual  Peter England Men Party Blue Jeans  39386.jpg   \n",
       "2  2016.0  Casual            Titan Women Silver Watch  59263.jpg   \n",
       "\n",
       "                                                link  \n",
       "0  http://assets.myntassets.com/v1/images/style/p...  \n",
       "1  http://assets.myntassets.com/v1/images/style/p...  \n",
       "2  http://assets.myntassets.com/v1/images/style/p...  "
      ]
     },
     "execution_count": 19,
     "metadata": {},
     "output_type": "execute_result"
    }
   ],
   "source": [
    "data.head(3)"
   ]
  },
  {
   "cell_type": "code",
   "execution_count": 21,
   "id": "0c84346b-ffe5-4dde-84f8-6e5d56c9a380",
   "metadata": {},
   "outputs": [
    {
     "data": {
      "text/plain": [
       "(44424, 12)"
      ]
     },
     "execution_count": 21,
     "metadata": {},
     "output_type": "execute_result"
    }
   ],
   "source": [
    "data.shape"
   ]
  },
  {
   "cell_type": "code",
   "execution_count": 22,
   "id": "24b3ba3d-f332-4335-b333-4b02840a7cde",
   "metadata": {},
   "outputs": [],
   "source": [
    "columns_to_use = ['id', 'gender', 'masterCategory', 'subCategory', 'articleType', 'baseColour', 'season', 'usage', 'productDisplayName', 'link']\n",
    "df = data[columns_to_use].dropna()"
   ]
  },
  {
   "cell_type": "code",
   "execution_count": 23,
   "id": "bed0a7ab-422e-4665-a5a8-dba82106d810",
   "metadata": {},
   "outputs": [],
   "source": [
    "for col in ['gender', 'masterCategory', 'subCategory', 'articleType', 'baseColour', 'season', 'usage']:\n",
    "    df[col] = df[col].str.lower()"
   ]
  },
  {
   "cell_type": "code",
   "execution_count": 24,
   "id": "b02df704-27fc-441c-9ae0-85b5a30cec29",
   "metadata": {},
   "outputs": [
    {
     "data": {
      "text/html": [
       "<div>\n",
       "<style scoped>\n",
       "    .dataframe tbody tr th:only-of-type {\n",
       "        vertical-align: middle;\n",
       "    }\n",
       "\n",
       "    .dataframe tbody tr th {\n",
       "        vertical-align: top;\n",
       "    }\n",
       "\n",
       "    .dataframe thead th {\n",
       "        text-align: right;\n",
       "    }\n",
       "</style>\n",
       "<table border=\"1\" class=\"dataframe\">\n",
       "  <thead>\n",
       "    <tr style=\"text-align: right;\">\n",
       "      <th></th>\n",
       "      <th>id</th>\n",
       "      <th>gender</th>\n",
       "      <th>masterCategory</th>\n",
       "      <th>subCategory</th>\n",
       "      <th>articleType</th>\n",
       "      <th>baseColour</th>\n",
       "      <th>season</th>\n",
       "      <th>usage</th>\n",
       "      <th>productDisplayName</th>\n",
       "      <th>link</th>\n",
       "    </tr>\n",
       "  </thead>\n",
       "  <tbody>\n",
       "    <tr>\n",
       "      <th>0</th>\n",
       "      <td>15970</td>\n",
       "      <td>men</td>\n",
       "      <td>apparel</td>\n",
       "      <td>topwear</td>\n",
       "      <td>shirts</td>\n",
       "      <td>navy blue</td>\n",
       "      <td>fall</td>\n",
       "      <td>casual</td>\n",
       "      <td>Turtle Check Men Navy Blue Shirt</td>\n",
       "      <td>http://assets.myntassets.com/v1/images/style/p...</td>\n",
       "    </tr>\n",
       "    <tr>\n",
       "      <th>1</th>\n",
       "      <td>39386</td>\n",
       "      <td>men</td>\n",
       "      <td>apparel</td>\n",
       "      <td>bottomwear</td>\n",
       "      <td>jeans</td>\n",
       "      <td>blue</td>\n",
       "      <td>summer</td>\n",
       "      <td>casual</td>\n",
       "      <td>Peter England Men Party Blue Jeans</td>\n",
       "      <td>http://assets.myntassets.com/v1/images/style/p...</td>\n",
       "    </tr>\n",
       "    <tr>\n",
       "      <th>2</th>\n",
       "      <td>59263</td>\n",
       "      <td>women</td>\n",
       "      <td>accessories</td>\n",
       "      <td>watches</td>\n",
       "      <td>watches</td>\n",
       "      <td>silver</td>\n",
       "      <td>winter</td>\n",
       "      <td>casual</td>\n",
       "      <td>Titan Women Silver Watch</td>\n",
       "      <td>http://assets.myntassets.com/v1/images/style/p...</td>\n",
       "    </tr>\n",
       "  </tbody>\n",
       "</table>\n",
       "</div>"
      ],
      "text/plain": [
       "      id gender masterCategory subCategory articleType baseColour  season  \\\n",
       "0  15970    men        apparel     topwear      shirts  navy blue    fall   \n",
       "1  39386    men        apparel  bottomwear       jeans       blue  summer   \n",
       "2  59263  women    accessories     watches     watches     silver  winter   \n",
       "\n",
       "    usage                  productDisplayName  \\\n",
       "0  casual    Turtle Check Men Navy Blue Shirt   \n",
       "1  casual  Peter England Men Party Blue Jeans   \n",
       "2  casual            Titan Women Silver Watch   \n",
       "\n",
       "                                                link  \n",
       "0  http://assets.myntassets.com/v1/images/style/p...  \n",
       "1  http://assets.myntassets.com/v1/images/style/p...  \n",
       "2  http://assets.myntassets.com/v1/images/style/p...  "
      ]
     },
     "execution_count": 24,
     "metadata": {},
     "output_type": "execute_result"
    }
   ],
   "source": [
    "df.head(3)"
   ]
  },
  {
   "cell_type": "code",
   "execution_count": 25,
   "id": "7e910eb4-4776-434f-9242-68b582fcbc59",
   "metadata": {},
   "outputs": [],
   "source": [
    "df['combined'] = df['gender'] + ' ' + df['masterCategory'] + ' ' + df['subCategory'] + ' ' + df['articleType'] + ' ' + df['baseColour'] + ' ' + df['season'] + ' ' + df['usage'] + ' ' + df['productDisplayName']"
   ]
  },
  {
   "cell_type": "code",
   "execution_count": 26,
   "id": "812b8a47-61d0-43e1-9b95-e984fc642a2f",
   "metadata": {},
   "outputs": [
    {
     "data": {
      "text/html": [
       "<div>\n",
       "<style scoped>\n",
       "    .dataframe tbody tr th:only-of-type {\n",
       "        vertical-align: middle;\n",
       "    }\n",
       "\n",
       "    .dataframe tbody tr th {\n",
       "        vertical-align: top;\n",
       "    }\n",
       "\n",
       "    .dataframe thead th {\n",
       "        text-align: right;\n",
       "    }\n",
       "</style>\n",
       "<table border=\"1\" class=\"dataframe\">\n",
       "  <thead>\n",
       "    <tr style=\"text-align: right;\">\n",
       "      <th></th>\n",
       "      <th>id</th>\n",
       "      <th>gender</th>\n",
       "      <th>masterCategory</th>\n",
       "      <th>subCategory</th>\n",
       "      <th>articleType</th>\n",
       "      <th>baseColour</th>\n",
       "      <th>season</th>\n",
       "      <th>usage</th>\n",
       "      <th>productDisplayName</th>\n",
       "      <th>link</th>\n",
       "      <th>combined</th>\n",
       "    </tr>\n",
       "  </thead>\n",
       "  <tbody>\n",
       "    <tr>\n",
       "      <th>0</th>\n",
       "      <td>15970</td>\n",
       "      <td>men</td>\n",
       "      <td>apparel</td>\n",
       "      <td>topwear</td>\n",
       "      <td>shirts</td>\n",
       "      <td>navy blue</td>\n",
       "      <td>fall</td>\n",
       "      <td>casual</td>\n",
       "      <td>Turtle Check Men Navy Blue Shirt</td>\n",
       "      <td>http://assets.myntassets.com/v1/images/style/p...</td>\n",
       "      <td>men apparel topwear shirts navy blue fall casu...</td>\n",
       "    </tr>\n",
       "    <tr>\n",
       "      <th>1</th>\n",
       "      <td>39386</td>\n",
       "      <td>men</td>\n",
       "      <td>apparel</td>\n",
       "      <td>bottomwear</td>\n",
       "      <td>jeans</td>\n",
       "      <td>blue</td>\n",
       "      <td>summer</td>\n",
       "      <td>casual</td>\n",
       "      <td>Peter England Men Party Blue Jeans</td>\n",
       "      <td>http://assets.myntassets.com/v1/images/style/p...</td>\n",
       "      <td>men apparel bottomwear jeans blue summer casua...</td>\n",
       "    </tr>\n",
       "    <tr>\n",
       "      <th>2</th>\n",
       "      <td>59263</td>\n",
       "      <td>women</td>\n",
       "      <td>accessories</td>\n",
       "      <td>watches</td>\n",
       "      <td>watches</td>\n",
       "      <td>silver</td>\n",
       "      <td>winter</td>\n",
       "      <td>casual</td>\n",
       "      <td>Titan Women Silver Watch</td>\n",
       "      <td>http://assets.myntassets.com/v1/images/style/p...</td>\n",
       "      <td>women accessories watches watches silver winte...</td>\n",
       "    </tr>\n",
       "  </tbody>\n",
       "</table>\n",
       "</div>"
      ],
      "text/plain": [
       "      id gender masterCategory subCategory articleType baseColour  season  \\\n",
       "0  15970    men        apparel     topwear      shirts  navy blue    fall   \n",
       "1  39386    men        apparel  bottomwear       jeans       blue  summer   \n",
       "2  59263  women    accessories     watches     watches     silver  winter   \n",
       "\n",
       "    usage                  productDisplayName  \\\n",
       "0  casual    Turtle Check Men Navy Blue Shirt   \n",
       "1  casual  Peter England Men Party Blue Jeans   \n",
       "2  casual            Titan Women Silver Watch   \n",
       "\n",
       "                                                link  \\\n",
       "0  http://assets.myntassets.com/v1/images/style/p...   \n",
       "1  http://assets.myntassets.com/v1/images/style/p...   \n",
       "2  http://assets.myntassets.com/v1/images/style/p...   \n",
       "\n",
       "                                            combined  \n",
       "0  men apparel topwear shirts navy blue fall casu...  \n",
       "1  men apparel bottomwear jeans blue summer casua...  \n",
       "2  women accessories watches watches silver winte...  "
      ]
     },
     "execution_count": 26,
     "metadata": {},
     "output_type": "execute_result"
    }
   ],
   "source": [
    "df.head(3)"
   ]
  },
  {
   "cell_type": "code",
   "execution_count": 27,
   "id": "e7c7c068-a53f-4371-8c41-cc83ab102e78",
   "metadata": {},
   "outputs": [],
   "source": [
    "from sklearn.feature_extraction.text import TfidfVectorizer\n",
    "from sklearn.metrics.pairwise import cosine_similarity"
   ]
  },
  {
   "cell_type": "code",
   "execution_count": 28,
   "id": "c8f0d809-62af-4b60-8807-7a7d7b40eafc",
   "metadata": {},
   "outputs": [],
   "source": [
    "vectorizer = TfidfVectorizer(stop_words='english')\n",
    "tfidf_matrix = vectorizer.fit_transform(df['combined'])"
   ]
  },
  {
   "cell_type": "code",
   "execution_count": 29,
   "id": "19f5d147-3de3-476a-9318-8f2f604e61dd",
   "metadata": {},
   "outputs": [],
   "source": [
    "# Compute cosine similarity\n",
    "cosine_sim = cosine_similarity(tfidf_matrix, tfidf_matrix)"
   ]
  },
  {
   "cell_type": "code",
   "execution_count": 30,
   "id": "c90e9d3c-f98b-40df-8c52-8e1022b0acfc",
   "metadata": {},
   "outputs": [],
   "source": [
    "def recommend_product(product_index, top_n=5):\n",
    "    sim_scores = list(enumerate(cosine_sim[product_index]))\n",
    "    sim_scores = sorted(sim_scores, key=lambda x: x[1], reverse=True)[1:top_n+1]\n",
    "    recommendations = [df.iloc[i[0]] for i in sim_scores]\n",
    "    return pd.DataFrame(recommendations)"
   ]
  },
  {
   "cell_type": "code",
   "execution_count": 31,
   "id": "6d03a840-6498-4046-aaec-b6ceb20cd8c8",
   "metadata": {},
   "outputs": [
    {
     "name": "stdout",
     "output_type": "stream",
     "text": [
      "                       productDisplayName articleType baseColour  \\\n",
      "26654    Turtle Men Check Navy Blue Shirt      shirts  navy blue   \n",
      "19066         Turtle Check Men Blue Shirt      shirts       blue   \n",
      "39893         Turtle Check Men Blue Shirt      shirts       blue   \n",
      "41909         Turtle Check Men Blue Shirt      shirts       blue   \n",
      "19115  Scullers Men Navy Blue Check Shirt      shirts  navy blue   \n",
      "\n",
      "                                                    link  \n",
      "26654  http://assets.myntassets.com/v1/images/style/p...  \n",
      "19066  http://assets.myntassets.com/v1/images/style/p...  \n",
      "39893  http://assets.myntassets.com/v1/images/style/p...  \n",
      "41909  http://assets.myntassets.com/v1/images/style/p...  \n",
      "19115  http://assets.myntassets.com/v1/images/style/p...  \n"
     ]
    }
   ],
   "source": [
    "product_index = 0  # First product\n",
    "recommendations = recommend_product(product_index)\n",
    "print(recommendations[['productDisplayName', 'articleType', 'baseColour', 'link']])"
   ]
  },
  {
   "cell_type": "code",
   "execution_count": 32,
   "id": "089a161f-8217-4786-8251-dd81cc7ea5da",
   "metadata": {},
   "outputs": [
    {
     "data": {
      "text/html": [
       "<div>\n",
       "<style scoped>\n",
       "    .dataframe tbody tr th:only-of-type {\n",
       "        vertical-align: middle;\n",
       "    }\n",
       "\n",
       "    .dataframe tbody tr th {\n",
       "        vertical-align: top;\n",
       "    }\n",
       "\n",
       "    .dataframe thead th {\n",
       "        text-align: right;\n",
       "    }\n",
       "</style>\n",
       "<table border=\"1\" class=\"dataframe\">\n",
       "  <thead>\n",
       "    <tr style=\"text-align: right;\">\n",
       "      <th></th>\n",
       "      <th>id</th>\n",
       "      <th>gender</th>\n",
       "      <th>masterCategory</th>\n",
       "      <th>subCategory</th>\n",
       "      <th>articleType</th>\n",
       "      <th>baseColour</th>\n",
       "      <th>season</th>\n",
       "      <th>usage</th>\n",
       "      <th>productDisplayName</th>\n",
       "      <th>link</th>\n",
       "      <th>combined</th>\n",
       "    </tr>\n",
       "  </thead>\n",
       "  <tbody>\n",
       "    <tr>\n",
       "      <th>0</th>\n",
       "      <td>15970</td>\n",
       "      <td>men</td>\n",
       "      <td>apparel</td>\n",
       "      <td>topwear</td>\n",
       "      <td>shirts</td>\n",
       "      <td>navy blue</td>\n",
       "      <td>fall</td>\n",
       "      <td>casual</td>\n",
       "      <td>Turtle Check Men Navy Blue Shirt</td>\n",
       "      <td>http://assets.myntassets.com/v1/images/style/p...</td>\n",
       "      <td>men apparel topwear shirts navy blue fall casu...</td>\n",
       "    </tr>\n",
       "    <tr>\n",
       "      <th>1</th>\n",
       "      <td>39386</td>\n",
       "      <td>men</td>\n",
       "      <td>apparel</td>\n",
       "      <td>bottomwear</td>\n",
       "      <td>jeans</td>\n",
       "      <td>blue</td>\n",
       "      <td>summer</td>\n",
       "      <td>casual</td>\n",
       "      <td>Peter England Men Party Blue Jeans</td>\n",
       "      <td>http://assets.myntassets.com/v1/images/style/p...</td>\n",
       "      <td>men apparel bottomwear jeans blue summer casua...</td>\n",
       "    </tr>\n",
       "    <tr>\n",
       "      <th>2</th>\n",
       "      <td>59263</td>\n",
       "      <td>women</td>\n",
       "      <td>accessories</td>\n",
       "      <td>watches</td>\n",
       "      <td>watches</td>\n",
       "      <td>silver</td>\n",
       "      <td>winter</td>\n",
       "      <td>casual</td>\n",
       "      <td>Titan Women Silver Watch</td>\n",
       "      <td>http://assets.myntassets.com/v1/images/style/p...</td>\n",
       "      <td>women accessories watches watches silver winte...</td>\n",
       "    </tr>\n",
       "    <tr>\n",
       "      <th>3</th>\n",
       "      <td>21379</td>\n",
       "      <td>men</td>\n",
       "      <td>apparel</td>\n",
       "      <td>bottomwear</td>\n",
       "      <td>track pants</td>\n",
       "      <td>black</td>\n",
       "      <td>fall</td>\n",
       "      <td>casual</td>\n",
       "      <td>Manchester United Men Solid Black Track Pants</td>\n",
       "      <td>http://assets.myntassets.com/v1/images/style/p...</td>\n",
       "      <td>men apparel bottomwear track pants black fall ...</td>\n",
       "    </tr>\n",
       "    <tr>\n",
       "      <th>4</th>\n",
       "      <td>53759</td>\n",
       "      <td>men</td>\n",
       "      <td>apparel</td>\n",
       "      <td>topwear</td>\n",
       "      <td>tshirts</td>\n",
       "      <td>grey</td>\n",
       "      <td>summer</td>\n",
       "      <td>casual</td>\n",
       "      <td>Puma Men Grey T-shirt</td>\n",
       "      <td>http://assets.myntassets.com/v1/images/style/p...</td>\n",
       "      <td>men apparel topwear tshirts grey summer casual...</td>\n",
       "    </tr>\n",
       "  </tbody>\n",
       "</table>\n",
       "</div>"
      ],
      "text/plain": [
       "      id gender masterCategory subCategory  articleType baseColour  season  \\\n",
       "0  15970    men        apparel     topwear       shirts  navy blue    fall   \n",
       "1  39386    men        apparel  bottomwear        jeans       blue  summer   \n",
       "2  59263  women    accessories     watches      watches     silver  winter   \n",
       "3  21379    men        apparel  bottomwear  track pants      black    fall   \n",
       "4  53759    men        apparel     topwear      tshirts       grey  summer   \n",
       "\n",
       "    usage                             productDisplayName  \\\n",
       "0  casual               Turtle Check Men Navy Blue Shirt   \n",
       "1  casual             Peter England Men Party Blue Jeans   \n",
       "2  casual                       Titan Women Silver Watch   \n",
       "3  casual  Manchester United Men Solid Black Track Pants   \n",
       "4  casual                          Puma Men Grey T-shirt   \n",
       "\n",
       "                                                link  \\\n",
       "0  http://assets.myntassets.com/v1/images/style/p...   \n",
       "1  http://assets.myntassets.com/v1/images/style/p...   \n",
       "2  http://assets.myntassets.com/v1/images/style/p...   \n",
       "3  http://assets.myntassets.com/v1/images/style/p...   \n",
       "4  http://assets.myntassets.com/v1/images/style/p...   \n",
       "\n",
       "                                            combined  \n",
       "0  men apparel topwear shirts navy blue fall casu...  \n",
       "1  men apparel bottomwear jeans blue summer casua...  \n",
       "2  women accessories watches watches silver winte...  \n",
       "3  men apparel bottomwear track pants black fall ...  \n",
       "4  men apparel topwear tshirts grey summer casual...  "
      ]
     },
     "execution_count": 32,
     "metadata": {},
     "output_type": "execute_result"
    }
   ],
   "source": [
    "df.head()"
   ]
  },
  {
   "cell_type": "code",
   "execution_count": 34,
   "id": "2bcbd747-5e23-4cf8-a174-4b928d24c975",
   "metadata": {},
   "outputs": [
    {
     "name": "stdout",
     "output_type": "stream",
     "text": [
      "                  productDisplayName articleType baseColour  \\\n",
      "3896        Titan Women Silver Watch     watches     silver   \n",
      "20481       Titan Women Silver Watch     watches     silver   \n",
      "23713       Titan Women Silver Watch     watches     silver   \n",
      "25833       Titan Women Silver Watch     watches     silver   \n",
      "4860   Titan Women Silver Dial Watch     watches     silver   \n",
      "\n",
      "                                                    link  \n",
      "3896   http://assets.myntassets.com/v1/images/style/p...  \n",
      "20481  http://assets.myntassets.com/v1/images/style/p...  \n",
      "23713  http://assets.myntassets.com/v1/images/style/p...  \n",
      "25833  http://assets.myntassets.com/v1/images/style/p...  \n",
      "4860   http://assets.myntassets.com/v1/images/style/p...  \n"
     ]
    }
   ],
   "source": [
    "product_index = 2  # First product\n",
    "recommendations = recommend_product(product_index)\n",
    "print(recommendations[['productDisplayName', 'articleType', 'baseColour', 'link']])"
   ]
  },
  {
   "cell_type": "code",
   "execution_count": 36,
   "id": "5a9d7b74-f998-4da1-ab46-13f17ad5a7d4",
   "metadata": {},
   "outputs": [],
   "source": [
    "# problem \n",
    "# 1 image url concate\n",
    "# 2. recomended by index"
   ]
  },
  {
   "cell_type": "code",
   "execution_count": null,
   "id": "9c4ef21b-3803-46d8-9f4b-627d0017251c",
   "metadata": {},
   "outputs": [],
   "source": []
  }
 ],
 "metadata": {
  "kernelspec": {
   "display_name": "Python 3 (ipykernel)",
   "language": "python",
   "name": "python3"
  },
  "language_info": {
   "codemirror_mode": {
    "name": "ipython",
    "version": 3
   },
   "file_extension": ".py",
   "mimetype": "text/x-python",
   "name": "python",
   "nbconvert_exporter": "python",
   "pygments_lexer": "ipython3",
   "version": "3.12.7"
  }
 },
 "nbformat": 4,
 "nbformat_minor": 5
}
