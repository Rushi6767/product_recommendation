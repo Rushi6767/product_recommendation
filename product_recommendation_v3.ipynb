{
 "cells": [
  {
   "cell_type": "code",
   "execution_count": 34,
   "id": "86400704-3555-485d-806d-7147d3fd0b7d",
   "metadata": {},
   "outputs": [],
   "source": [
    "import numpy as np\n",
    "import pandas as pd\n",
    "from sklearn.feature_extraction.text import TfidfVectorizer\n",
    "from sklearn.metrics.pairwise import cosine_similarity\n",
    "\n",
    "# from sklearn.neighbors import NearestNeighbors\n",
    "from IPython.display import Image, display"
   ]
  },
  {
   "cell_type": "code",
   "execution_count": 35,
   "id": "657cd7c8-feeb-4f5e-ae0a-111f91d1aff4",
   "metadata": {},
   "outputs": [],
   "source": [
    "# --- Load data ---\n",
    "styles = pd.read_csv(\"styles.csv\", on_bad_lines='skip')\n",
    "images = pd.read_csv(\"images.csv\")"
   ]
  },
  {
   "cell_type": "code",
   "execution_count": 36,
   "id": "4a716d39-b3c7-4901-a1c2-f48923c47d8c",
   "metadata": {},
   "outputs": [],
   "source": [
    "images['id'] = images['filename'].str.replace('.jpg', '', regex=False).astype(int)"
   ]
  },
  {
   "cell_type": "code",
   "execution_count": 37,
   "id": "757299c8-2584-4d9f-8f8f-a8ebd01bcee7",
   "metadata": {},
   "outputs": [],
   "source": [
    "# merge datset\n",
    "df = pd.merge(styles, images, on='id')"
   ]
  },
  {
   "cell_type": "code",
   "execution_count": 38,
   "id": "7f162083-fcc7-4a47-a924-b2a64f459535",
   "metadata": {},
   "outputs": [
    {
     "data": {
      "text/html": [
       "<div>\n",
       "<style scoped>\n",
       "    .dataframe tbody tr th:only-of-type {\n",
       "        vertical-align: middle;\n",
       "    }\n",
       "\n",
       "    .dataframe tbody tr th {\n",
       "        vertical-align: top;\n",
       "    }\n",
       "\n",
       "    .dataframe thead th {\n",
       "        text-align: right;\n",
       "    }\n",
       "</style>\n",
       "<table border=\"1\" class=\"dataframe\">\n",
       "  <thead>\n",
       "    <tr style=\"text-align: right;\">\n",
       "      <th></th>\n",
       "      <th>id</th>\n",
       "      <th>gender</th>\n",
       "      <th>masterCategory</th>\n",
       "      <th>subCategory</th>\n",
       "      <th>articleType</th>\n",
       "      <th>baseColour</th>\n",
       "      <th>season</th>\n",
       "      <th>year</th>\n",
       "      <th>usage</th>\n",
       "      <th>productDisplayName</th>\n",
       "      <th>filename</th>\n",
       "      <th>link</th>\n",
       "    </tr>\n",
       "  </thead>\n",
       "  <tbody>\n",
       "    <tr>\n",
       "      <th>0</th>\n",
       "      <td>15970</td>\n",
       "      <td>Men</td>\n",
       "      <td>Apparel</td>\n",
       "      <td>Topwear</td>\n",
       "      <td>Shirts</td>\n",
       "      <td>Navy Blue</td>\n",
       "      <td>Fall</td>\n",
       "      <td>2011.0</td>\n",
       "      <td>Casual</td>\n",
       "      <td>Turtle Check Men Navy Blue Shirt</td>\n",
       "      <td>15970.jpg</td>\n",
       "      <td>http://assets.myntassets.com/v1/images/style/p...</td>\n",
       "    </tr>\n",
       "  </tbody>\n",
       "</table>\n",
       "</div>"
      ],
      "text/plain": [
       "      id gender masterCategory subCategory articleType baseColour season  \\\n",
       "0  15970    Men        Apparel     Topwear      Shirts  Navy Blue   Fall   \n",
       "\n",
       "     year   usage                productDisplayName   filename  \\\n",
       "0  2011.0  Casual  Turtle Check Men Navy Blue Shirt  15970.jpg   \n",
       "\n",
       "                                                link  \n",
       "0  http://assets.myntassets.com/v1/images/style/p...  "
      ]
     },
     "execution_count": 38,
     "metadata": {},
     "output_type": "execute_result"
    }
   ],
   "source": [
    "df.head(1)"
   ]
  },
  {
   "cell_type": "code",
   "execution_count": 39,
   "id": "69c63bbb-2e5a-425c-938d-3ec8d2677012",
   "metadata": {},
   "outputs": [],
   "source": [
    "# remove null rows\n",
    "df.dropna(subset=[\n",
    "    'productDisplayName', 'gender', 'masterCategory', 'subCategory',\n",
    "    'articleType', 'baseColour', 'season', 'usage', 'link'\n",
    "], inplace=True)"
   ]
  },
  {
   "cell_type": "code",
   "execution_count": 40,
   "id": "36ef6c48-b6e9-4f0d-8a17-187f4d609644",
   "metadata": {},
   "outputs": [],
   "source": [
    "df['image_url'] = df['link']"
   ]
  },
  {
   "cell_type": "code",
   "execution_count": 41,
   "id": "f298c31f-24fc-48ce-a90f-a92af498d2d0",
   "metadata": {},
   "outputs": [
    {
     "data": {
      "text/html": [
       "<div>\n",
       "<style scoped>\n",
       "    .dataframe tbody tr th:only-of-type {\n",
       "        vertical-align: middle;\n",
       "    }\n",
       "\n",
       "    .dataframe tbody tr th {\n",
       "        vertical-align: top;\n",
       "    }\n",
       "\n",
       "    .dataframe thead th {\n",
       "        text-align: right;\n",
       "    }\n",
       "</style>\n",
       "<table border=\"1\" class=\"dataframe\">\n",
       "  <thead>\n",
       "    <tr style=\"text-align: right;\">\n",
       "      <th></th>\n",
       "      <th>id</th>\n",
       "      <th>gender</th>\n",
       "      <th>masterCategory</th>\n",
       "      <th>subCategory</th>\n",
       "      <th>articleType</th>\n",
       "      <th>baseColour</th>\n",
       "      <th>season</th>\n",
       "      <th>year</th>\n",
       "      <th>usage</th>\n",
       "      <th>productDisplayName</th>\n",
       "      <th>filename</th>\n",
       "      <th>link</th>\n",
       "      <th>image_url</th>\n",
       "    </tr>\n",
       "  </thead>\n",
       "  <tbody>\n",
       "    <tr>\n",
       "      <th>0</th>\n",
       "      <td>15970</td>\n",
       "      <td>Men</td>\n",
       "      <td>Apparel</td>\n",
       "      <td>Topwear</td>\n",
       "      <td>Shirts</td>\n",
       "      <td>Navy Blue</td>\n",
       "      <td>Fall</td>\n",
       "      <td>2011.0</td>\n",
       "      <td>Casual</td>\n",
       "      <td>Turtle Check Men Navy Blue Shirt</td>\n",
       "      <td>15970.jpg</td>\n",
       "      <td>http://assets.myntassets.com/v1/images/style/p...</td>\n",
       "      <td>http://assets.myntassets.com/v1/images/style/p...</td>\n",
       "    </tr>\n",
       "  </tbody>\n",
       "</table>\n",
       "</div>"
      ],
      "text/plain": [
       "      id gender masterCategory subCategory articleType baseColour season  \\\n",
       "0  15970    Men        Apparel     Topwear      Shirts  Navy Blue   Fall   \n",
       "\n",
       "     year   usage                productDisplayName   filename  \\\n",
       "0  2011.0  Casual  Turtle Check Men Navy Blue Shirt  15970.jpg   \n",
       "\n",
       "                                                link  \\\n",
       "0  http://assets.myntassets.com/v1/images/style/p...   \n",
       "\n",
       "                                           image_url  \n",
       "0  http://assets.myntassets.com/v1/images/style/p...  "
      ]
     },
     "execution_count": 41,
     "metadata": {},
     "output_type": "execute_result"
    }
   ],
   "source": [
    "df.head(1)"
   ]
  },
  {
   "cell_type": "code",
   "execution_count": 42,
   "id": "c74acf52-67d3-4faf-b203-50280b3d13aa",
   "metadata": {},
   "outputs": [],
   "source": [
    "def build_tfidf(df, max_features=3000):\n",
    "    df['combined'] = (\n",
    "        df['gender'].str.lower() + ' ' +\n",
    "        df['masterCategory'].str.lower() + ' ' +\n",
    "        df['subCategory'].str.lower() + ' ' +\n",
    "        df['articleType'].str.lower() + ' ' +\n",
    "        df['baseColour'].str.lower() + ' ' +\n",
    "        df['season'].str.lower() + ' ' +\n",
    "        df['usage'].str.lower() + ' ' +\n",
    "        df['productDisplayName'].str.lower()\n",
    "    )\n",
    "    tfidf = TfidfVectorizer(stop_words='english', max_features=max_features)\n",
    "    tfidf_matrix = tfidf.fit_transform(df['combined'])\n",
    "    return tfidf_matrix"
   ]
  },
  {
   "cell_type": "code",
   "execution_count": 57,
   "id": "d5520ec8-f5d7-4ac8-ba86-dfb76f2a5fc8",
   "metadata": {},
   "outputs": [],
   "source": [
    "def find_product(name):\n",
    "    name = name.lower()\n",
    "    match = df[df['productDisplayName'].str.lower().str.contains(name)]\n",
    "    if match.empty:\n",
    "        return None\n",
    "    return match.iloc[0]"
   ]
  },
  {
   "cell_type": "code",
   "execution_count": 58,
   "id": "fc17da60-e8b4-4114-bfdf-22f68c9169dc",
   "metadata": {},
   "outputs": [],
   "source": [
    "def build_tfidf(data, max_features=3000):\n",
    "    data['combined'] = (\n",
    "        data['gender'].str.lower() + ' ' +\n",
    "        data['masterCategory'].str.lower() + ' ' +\n",
    "        data['subCategory'].str.lower() + ' ' +\n",
    "        data['articleType'].str.lower() + ' ' +\n",
    "        data['baseColour'].str.lower() + ' ' +\n",
    "        data['season'].str.lower() + ' ' +\n",
    "        data['usage'].str.lower() + ' ' +\n",
    "        data['productDisplayName'].str.lower()\n",
    "    )\n",
    "    vectorizer = TfidfVectorizer(stop_words='english', max_features=max_features)\n",
    "    tfidf_matrix = vectorizer.fit_transform(data['combined'])\n",
    "    return tfidf_matrix"
   ]
  },
  {
   "cell_type": "code",
   "execution_count": 59,
   "id": "e68413a7-3a17-427a-b799-b6429e8dd763",
   "metadata": {},
   "outputs": [],
   "source": [
    "def recommend(name, max_features=3000, top_n=5):\n",
    "    product = find_product(name)\n",
    "    if product is None:\n",
    "        print(\"❌ Product not found.\")\n",
    "        return None\n",
    "\n",
    "    print(f\"🔍 Closest match: {product['productDisplayName']}\")\n",
    "\n",
    "    # 🧽 Filter by same gender + articleType\n",
    "    filtered = df[\n",
    "        (df['gender'] == product['gender']) &\n",
    "        (df['articleType'] == product['articleType'])\n",
    "    ].copy()\n",
    "\n",
    "    if len(filtered) <= 1:\n",
    "        print(\"⚠️ Not enough items in this category to recommend.\")\n",
    "        return None\n",
    "\n",
    "    tfidf_matrix = build_tfidf(filtered, max_features=max_features)\n",
    "\n",
    "    # Cosine similarity\n",
    "    from sklearn.metrics.pairwise import cosine_similarity\n",
    "    idx = filtered.index.get_loc(product.name)\n",
    "    cosine_sim = cosine_similarity(tfidf_matrix[idx], tfidf_matrix).flatten()\n",
    "\n",
    "    # Top results\n",
    "    similar_indices = cosine_sim.argsort()[-top_n-1:-1][::-1]\n",
    "    results = filtered.iloc[similar_indices]\n",
    "\n",
    "    for _, row in results.iterrows():\n",
    "        print(f\"\\n🛍️ {row['productDisplayName']} ({row['articleType']} - {row['baseColour']})\")\n",
    "        display(Image(url=row['image_url'], width=200))\n",
    "\n",
    "    return results[['productDisplayName', 'articleType', 'baseColour', 'image_url']]\n"
   ]
  },
  {
   "cell_type": "code",
   "execution_count": 87,
   "id": "bfb715bc-e22f-46f5-8ad0-fe3d853a3fc7",
   "metadata": {},
   "outputs": [
    {
     "name": "stdout",
     "output_type": "stream",
     "text": [
      "🔍 Closest match: Scullers Men Scul Purple White Shirt\n",
      "\n",
      "🛍️ Scullers Men Scul Purple White Shirts (Shirts - Purple)\n"
     ]
    },
    {
     "data": {
      "text/html": [
       "<img src=\"http://assets.myntassets.com/v1/images/style/properties/62d1970b3a622bcab9fb973ca707a986_images.jpg\" width=\"200\"/>"
      ],
      "text/plain": [
       "<IPython.core.display.Image object>"
      ]
     },
     "metadata": {},
     "output_type": "display_data"
    },
    {
     "name": "stdout",
     "output_type": "stream",
     "text": [
      "\n",
      "🛍️ Scullers Men Scul Purple Shirt (Shirts - Purple)\n"
     ]
    },
    {
     "data": {
      "text/html": [
       "<img src=\"http://assets.myntassets.com/v1/images/style/properties/c061747dafc0159016e9aa277ed9ef0a_images.jpg\" width=\"200\"/>"
      ],
      "text/plain": [
       "<IPython.core.display.Image object>"
      ]
     },
     "metadata": {},
     "output_type": "display_data"
    },
    {
     "name": "stdout",
     "output_type": "stream",
     "text": [
      "\n",
      "🛍️ Scullers Men's Scul Purple Shirt (Shirts - Purple)\n"
     ]
    },
    {
     "data": {
      "text/html": [
       "<img src=\"http://assets.myntassets.com/v1/images/style/properties/f9da8357b0dde0499eda250deb993b55_images.jpg\" width=\"200\"/>"
      ],
      "text/plain": [
       "<IPython.core.display.Image object>"
      ]
     },
     "metadata": {},
     "output_type": "display_data"
    },
    {
     "name": "stdout",
     "output_type": "stream",
     "text": [
      "\n",
      "🛍️ Scullers Men Scul Purple Shirts (Shirts - Purple)\n"
     ]
    },
    {
     "data": {
      "text/html": [
       "<img src=\"http://assets.myntassets.com/v1/images/style/properties/a70ce219d46197900bdcfcf5e5e90560_images.jpg\" width=\"200\"/>"
      ],
      "text/plain": [
       "<IPython.core.display.Image object>"
      ]
     },
     "metadata": {},
     "output_type": "display_data"
    },
    {
     "name": "stdout",
     "output_type": "stream",
     "text": [
      "\n",
      "🛍️ Scullers Men Scul Purple Shirts (Shirts - Purple)\n"
     ]
    },
    {
     "data": {
      "text/html": [
       "<img src=\"http://assets.myntassets.com/v1/images/style/properties/6eab376e166bd59954b58d8a6f022a33_images.jpg\" width=\"200\"/>"
      ],
      "text/plain": [
       "<IPython.core.display.Image object>"
      ]
     },
     "metadata": {},
     "output_type": "display_data"
    },
    {
     "data": {
      "text/html": [
       "<div>\n",
       "<style scoped>\n",
       "    .dataframe tbody tr th:only-of-type {\n",
       "        vertical-align: middle;\n",
       "    }\n",
       "\n",
       "    .dataframe tbody tr th {\n",
       "        vertical-align: top;\n",
       "    }\n",
       "\n",
       "    .dataframe thead th {\n",
       "        text-align: right;\n",
       "    }\n",
       "</style>\n",
       "<table border=\"1\" class=\"dataframe\">\n",
       "  <thead>\n",
       "    <tr style=\"text-align: right;\">\n",
       "      <th></th>\n",
       "      <th>productDisplayName</th>\n",
       "      <th>articleType</th>\n",
       "      <th>baseColour</th>\n",
       "      <th>image_url</th>\n",
       "    </tr>\n",
       "  </thead>\n",
       "  <tbody>\n",
       "    <tr>\n",
       "      <th>32775</th>\n",
       "      <td>Scullers Men Scul Purple White Shirts</td>\n",
       "      <td>Shirts</td>\n",
       "      <td>Purple</td>\n",
       "      <td>http://assets.myntassets.com/v1/images/style/p...</td>\n",
       "    </tr>\n",
       "    <tr>\n",
       "      <th>28857</th>\n",
       "      <td>Scullers Men Scul Purple Shirt</td>\n",
       "      <td>Shirts</td>\n",
       "      <td>Purple</td>\n",
       "      <td>http://assets.myntassets.com/v1/images/style/p...</td>\n",
       "    </tr>\n",
       "    <tr>\n",
       "      <th>9538</th>\n",
       "      <td>Scullers Men's Scul Purple Shirt</td>\n",
       "      <td>Shirts</td>\n",
       "      <td>Purple</td>\n",
       "      <td>http://assets.myntassets.com/v1/images/style/p...</td>\n",
       "    </tr>\n",
       "    <tr>\n",
       "      <th>36108</th>\n",
       "      <td>Scullers Men Scul Purple Shirts</td>\n",
       "      <td>Shirts</td>\n",
       "      <td>Purple</td>\n",
       "      <td>http://assets.myntassets.com/v1/images/style/p...</td>\n",
       "    </tr>\n",
       "    <tr>\n",
       "      <th>27435</th>\n",
       "      <td>Scullers Men Scul Purple Shirts</td>\n",
       "      <td>Shirts</td>\n",
       "      <td>Purple</td>\n",
       "      <td>http://assets.myntassets.com/v1/images/style/p...</td>\n",
       "    </tr>\n",
       "  </tbody>\n",
       "</table>\n",
       "</div>"
      ],
      "text/plain": [
       "                          productDisplayName articleType baseColour  \\\n",
       "32775  Scullers Men Scul Purple White Shirts      Shirts     Purple   \n",
       "28857         Scullers Men Scul Purple Shirt      Shirts     Purple   \n",
       "9538        Scullers Men's Scul Purple Shirt      Shirts     Purple   \n",
       "36108        Scullers Men Scul Purple Shirts      Shirts     Purple   \n",
       "27435        Scullers Men Scul Purple Shirts      Shirts     Purple   \n",
       "\n",
       "                                               image_url  \n",
       "32775  http://assets.myntassets.com/v1/images/style/p...  \n",
       "28857  http://assets.myntassets.com/v1/images/style/p...  \n",
       "9538   http://assets.myntassets.com/v1/images/style/p...  \n",
       "36108  http://assets.myntassets.com/v1/images/style/p...  \n",
       "27435  http://assets.myntassets.com/v1/images/style/p...  "
      ]
     },
     "execution_count": 87,
     "metadata": {},
     "output_type": "execute_result"
    }
   ],
   "source": [
    "recommend(\"white shirt\", max_features=5000)"
   ]
  },
  {
   "cell_type": "code",
   "execution_count": null,
   "id": "18b536d8-d4f4-457c-9ebb-d1d474cc00de",
   "metadata": {},
   "outputs": [],
   "source": []
  }
 ],
 "metadata": {
  "kernelspec": {
   "display_name": "Python 3 (ipykernel)",
   "language": "python",
   "name": "python3"
  },
  "language_info": {
   "codemirror_mode": {
    "name": "ipython",
    "version": 3
   },
   "file_extension": ".py",
   "mimetype": "text/x-python",
   "name": "python",
   "nbconvert_exporter": "python",
   "pygments_lexer": "ipython3",
   "version": "3.12.7"
  }
 },
 "nbformat": 4,
 "nbformat_minor": 5
}
