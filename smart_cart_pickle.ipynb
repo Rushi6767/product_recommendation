{
 "cells": [
  {
   "cell_type": "code",
   "execution_count": 1,
   "id": "da8f3d8a-44ea-4360-a7a1-13cbed729d24",
   "metadata": {},
   "outputs": [],
   "source": [
    "import pandas as pd\n",
    "import pickle\n",
    "from sklearn.feature_extraction.text import TfidfVectorizer"
   ]
  },
  {
   "cell_type": "code",
   "execution_count": 2,
   "id": "729768c7-d606-4d9d-b0ef-cff129f2bc75",
   "metadata": {},
   "outputs": [],
   "source": [
    "styles = pd.read_csv(\"styles.csv\", on_bad_lines='skip')\n",
    "images = pd.read_csv(\"images.csv\")"
   ]
  },
  {
   "cell_type": "code",
   "execution_count": 3,
   "id": "ac66bb62-ffca-431f-84fd-fb6590afd1a5",
   "metadata": {},
   "outputs": [],
   "source": [
    "images['id'] = images['filename'].str.replace('.jpg', '', regex=False).astype(int)"
   ]
  },
  {
   "cell_type": "code",
   "execution_count": 4,
   "id": "33eb140c-f056-4b1e-81d9-427dedc34c3d",
   "metadata": {},
   "outputs": [],
   "source": [
    "# Merge datasets\n",
    "df = pd.merge(styles, images, on='id')"
   ]
  },
  {
   "cell_type": "code",
   "execution_count": 5,
   "id": "f90e83cd-a9bf-43ca-8cda-e9b8501da877",
   "metadata": {},
   "outputs": [],
   "source": [
    "\n",
    "# Drop rows with missing essential info\n",
    "df.dropna(subset=[\n",
    "    'productDisplayName', 'gender', 'masterCategory', 'subCategory',\n",
    "    'articleType', 'baseColour', 'season', 'usage', 'link'\n",
    "], inplace=True)"
   ]
  },
  {
   "cell_type": "code",
   "execution_count": 6,
   "id": "ef5b8693-1591-4f8b-bc66-13a82c81d13d",
   "metadata": {},
   "outputs": [],
   "source": [
    "# Create full image URL\n",
    "df['image_url'] = df['link']"
   ]
  },
  {
   "cell_type": "code",
   "execution_count": 7,
   "id": "eb9a9390-6374-48b8-a658-33f0d023801e",
   "metadata": {},
   "outputs": [],
   "source": [
    "# Create combined text field for vectorization\n",
    "df['combined'] = (\n",
    "    df['gender'].str.lower() + ' ' +\n",
    "    df['masterCategory'].str.lower() + ' ' +\n",
    "    df['subCategory'].str.lower() + ' ' +\n",
    "    df['articleType'].str.lower() + ' ' +\n",
    "    df['baseColour'].str.lower() + ' ' +\n",
    "    df['season'].str.lower() + ' ' +\n",
    "    df['usage'].str.lower() + ' ' +\n",
    "    df['productDisplayName'].str.lower()\n",
    ")"
   ]
  },
  {
   "cell_type": "code",
   "execution_count": 8,
   "id": "81f23067-5b21-4953-b0aa-6483fc2df457",
   "metadata": {},
   "outputs": [],
   "source": [
    "# --- Build TF-IDF ---\n",
    "vectorizer = TfidfVectorizer(stop_words='english', max_features=5000)\n",
    "tfidf_matrix = vectorizer.fit_transform(df['combined'])"
   ]
  },
  {
   "cell_type": "code",
   "execution_count": 9,
   "id": "f53b4e73-4d83-403f-9d34-e7527ca6c638",
   "metadata": {},
   "outputs": [],
   "source": [
    "pickle.dump(df, open(\"df.pkl\", \"wb\"))\n",
    "pickle.dump(vectorizer, open(\"tfidf.pkl\", \"wb\"))\n",
    "pickle.dump(tfidf_matrix, open(\"tfidf_matrix.pkl\", \"wb\"))"
   ]
  },
  {
   "cell_type": "code",
   "execution_count": null,
   "id": "c0ef285a-7b26-42f8-8e67-d5d0eda55029",
   "metadata": {},
   "outputs": [],
   "source": []
  }
 ],
 "metadata": {
  "kernelspec": {
   "display_name": "Python 3 (ipykernel)",
   "language": "python",
   "name": "python3"
  },
  "language_info": {
   "codemirror_mode": {
    "name": "ipython",
    "version": 3
   },
   "file_extension": ".py",
   "mimetype": "text/x-python",
   "name": "python",
   "nbconvert_exporter": "python",
   "pygments_lexer": "ipython3",
   "version": "3.12.7"
  }
 },
 "nbformat": 4,
 "nbformat_minor": 5
}
